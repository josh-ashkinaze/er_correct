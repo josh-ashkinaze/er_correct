{
 "cells": [
  {
   "cell_type": "code",
   "execution_count": 91,
   "id": "886d7759-98d7-4e76-8844-e348526a7bfb",
   "metadata": {},
   "outputs": [
    {
     "name": "stdout",
     "output_type": "stream",
     "text": [
      "Encoding Windows-1252\n"
     ]
    }
   ],
   "source": [
    "import requests\n",
    "import pandas as pd\n",
    "import seaborn as sns\n",
    "import chardet\n",
    "\n",
    "import numpy as np\n",
    "# file from here\n",
    "# https://github.com/CenterForOpenScience/rpp/blob/master/data_allformats/RPPdataConverted.csv\n",
    "# downloaded 2024-03-23\n",
    "with open('RPPdataConverted.csv', 'rb') as rawdata:\n",
    "    result = chardet.detect(rawdata.read(10000))\n",
    "\n",
    "# It has weird encoding so \n",
    "# use chardet to find encoding\n",
    "# and read in w/o errors\n",
    "encoding = result['encoding'] \n",
    "print(\"Encoding\", encoding)\n",
    "df = pd.read_csv('RPPdataConverted.csv', encoding=encoding, on_bad_lines='skip')"
   ]
  },
  {
   "cell_type": "markdown",
   "id": "312374ee-1ef6-431d-8e3b-f495b4bd4014",
   "metadata": {},
   "source": [
    "# Read in data"
   ]
  },
  {
   "cell_type": "code",
   "execution_count": 4,
   "id": "9c415dc1-ad30-4dce-a486-a575da11fa59",
   "metadata": {},
   "outputs": [
    {
     "name": "stdout",
     "output_type": "stream",
     "text": [
      "['1st.author.O', '1st.author.R', '80.power', '90.power', '95.power', 'Actual.Power.O', 'Analysis.completion.date.R', 'Area.of.expertise.R', 'Authors.O', 'Calculated.P.value.O', 'Citation.Count.1st.author.O', 'Citation.count.1st.author.R', 'Citation.count.paper.O', 'Citation.count.senior.author.O', 'Citation.count.senior.author.R', 'Citations.R', 'Coder.s.email.R', 'Collect.materials.from.authors', 'Completion.R', 'Contact.Researcher.R', 'Current.position.R', 'Data.collection.quality.R', 'Degree.R', 'Description.of.effect.O', 'Descriptors.O', 'Differences.R', 'Difficulty.of.implimentation.R', 'Direction.R', 'Discipline.O', 'Domain.expertise.R', 'Dummy', 'Effect.Size.R', 'Effect.similarity.R', 'Effect.size.O', 'Exciting.result.O', 'Feasibility.O', 'Findings.similarity.R', 'Implementation.quality.R', 'Institution.1st.author.O', 'Institution.1st.author.R', 'Institution.prestige.1st.author.O', 'Institution.prestige.1st.author.R', 'Institution.prestige.senior.author.O', 'Institution.prestige.senior.author.R', 'Institution.senior.author.O', 'Institution.senior.author.R', 'Internal.conceptual.replications.O', 'Internal.direct.replications.O', 'Issue.O', 'Journal.O', 'Local.ID', 'Meta.analysis.significant', 'Meta.analytic.estimate.Fz', 'Method.expertise.R', 'Methodology.expertise.required.O', 'N.O', 'N.R', 'Notes.R', 'Number.of.Authors.O', 'Number.of.Authors.R', 'Number.of.Research.sites.R', 'Number.of.Studies.O', 'Number.of.research.sites.O', 'O.within.CI.R', 'OSC.reviewer.O', 'OSC.reviewer.R', 'Opportunity.for.expectancy.bias.O', 'Opportunity.for.lack.of.diligence.O', 'Original.Author.s.Assessment', 'P.value.R', 'Pages.O', 'Peer.reviewed.articles.R', 'Planned.Power', 'Planned.Sample', 'Power.R', 'Project.URL', 'Project.audit.complete.R', 'R.check.location.R', 'Replicate.R', 'Replicated.study.number.R', 'Replication.similarity.R', 'Reported.P.value.O', 'Secondary.R', 'Secondary.data.O', 'Secondary.data.R', 'Senior.author.O', 'Senior.author.R', 'Status.R', 'Study.Title.O', 'Study.claim.date.R', 'Successful.conceptual.replications.O', 'Successful.direct.replications.O', 'Surprise.of.outcome.R', 'Surprising.result.O', 'T.Comparison.effects.R.O', 'T.N.O', 'T.N.O.for.tables', 'T.N.R', 'T.N.R.for.tables', 'T.O.larger', 'T.Test.Comparison.R', 'T.Test.Statistic.O', 'T.Test.Statistic.R', 'T.Test.value.O', 'T.Test.value.R', 'T.TestComparison.O', 'T.df1.O', 'T.df1.R', 'T.df2.O', 'T.df2.R', 'T.p.comparison.O', 'T.p.comparison.R', 'T.pval.O', 'T.pval.R', 'T.pval.USE.O', 'T.pval.USE.R', 'T.pval.recalc.O', 'T.pval.recalc.R', 'T.r.O', 'T.r.R', 'T.sign.O.113', 'T.sign.O.131', 'T.sign.R.125', 'T.sign.R.132', 'Tails.O', 'Tails.R', 'Test.statistic.O', 'Test.statistic.R', 'Total.publications.R', 'Type.of.analysis.O.128', 'Type.of.analysis.O.56', 'Type.of.analysis.R.129', 'Type.of.analysis.R.74', 'Type.of.effect.O', 'Type.of.effect.R', 'V130', 'Volume.O', 'Year.of.highest.degree.R']\n"
     ]
    }
   ],
   "source": [
    "print(sorted(df.columns))"
   ]
  },
  {
   "cell_type": "markdown",
   "id": "8eaa7820-052d-4c30-9d2d-196fa69121e3",
   "metadata": {},
   "source": [
    "# Data Wrangling"
   ]
  },
  {
   "cell_type": "markdown",
   "id": "2dbcf216-6553-457a-adc5-c8aba8a20d68",
   "metadata": {},
   "source": [
    "## Dates"
   ]
  },
  {
   "cell_type": "code",
   "execution_count": 59,
   "id": "3cafd04e-64a7-4403-aa7f-d2d39ce0d09a",
   "metadata": {},
   "outputs": [],
   "source": [
    "df['rep_date'] = pd.to_datetime(df['Analysis.completion.date.R'], format='mixed')\n",
    "df['orig_date'] = pd.to_datetime(df['Study.claim.date.R'], format='mixed')\n",
    "df['time_since'] = (df['rep_date'] - df['orig_date']).dt.days"
   ]
  },
  {
   "cell_type": "code",
   "execution_count": 60,
   "id": "33947f01-bdf8-48f0-b28e-b06e8bec9c8a",
   "metadata": {},
   "outputs": [
    {
     "data": {
      "text/html": [
       "<div>\n",
       "<style scoped>\n",
       "    .dataframe tbody tr th:only-of-type {\n",
       "        vertical-align: middle;\n",
       "    }\n",
       "\n",
       "    .dataframe tbody tr th {\n",
       "        vertical-align: top;\n",
       "    }\n",
       "\n",
       "    .dataframe thead th {\n",
       "        text-align: right;\n",
       "    }\n",
       "</style>\n",
       "<table border=\"1\" class=\"dataframe\">\n",
       "  <thead>\n",
       "    <tr style=\"text-align: right;\">\n",
       "      <th></th>\n",
       "      <th>rep_date</th>\n",
       "      <th>orig_date</th>\n",
       "      <th>time_since</th>\n",
       "    </tr>\n",
       "  </thead>\n",
       "  <tbody>\n",
       "    <tr>\n",
       "      <th>0</th>\n",
       "      <td>2015-01-07</td>\n",
       "      <td>2014-07-25</td>\n",
       "      <td>166.0</td>\n",
       "    </tr>\n",
       "    <tr>\n",
       "      <th>1</th>\n",
       "      <td>2014-11-18</td>\n",
       "      <td>2013-12-01</td>\n",
       "      <td>352.0</td>\n",
       "    </tr>\n",
       "    <tr>\n",
       "      <th>2</th>\n",
       "      <td>2015-05-21</td>\n",
       "      <td>2014-08-02</td>\n",
       "      <td>292.0</td>\n",
       "    </tr>\n",
       "    <tr>\n",
       "      <th>3</th>\n",
       "      <td>2015-01-01</td>\n",
       "      <td>2014-07-11</td>\n",
       "      <td>174.0</td>\n",
       "    </tr>\n",
       "    <tr>\n",
       "      <th>4</th>\n",
       "      <td>2015-01-08</td>\n",
       "      <td>2012-06-22</td>\n",
       "      <td>930.0</td>\n",
       "    </tr>\n",
       "  </tbody>\n",
       "</table>\n",
       "</div>"
      ],
      "text/plain": [
       "    rep_date  orig_date  time_since\n",
       "0 2015-01-07 2014-07-25       166.0\n",
       "1 2014-11-18 2013-12-01       352.0\n",
       "2 2015-05-21 2014-08-02       292.0\n",
       "3 2015-01-01 2014-07-11       174.0\n",
       "4 2015-01-08 2012-06-22       930.0"
      ]
     },
     "execution_count": 60,
     "metadata": {},
     "output_type": "execute_result"
    }
   ],
   "source": [
    "df[['rep_date', 'orig_date', 'time_since']].head(5)"
   ]
  },
  {
   "cell_type": "code",
   "execution_count": 71,
   "id": "81e20e38-e024-4708-8344-532ca2cef94d",
   "metadata": {},
   "outputs": [
    {
     "data": {
      "text/plain": [
       "0          __p^2 = .02\n",
       "1         __p^2 = .051\n",
       "2         __p^2 = .046\n",
       "3      __p^2 = 0.00003\n",
       "4         n_p^2 = 0.02\n",
       "            ...       \n",
       "157                NaN\n",
       "158            w = .19\n",
       "159                NaN\n",
       "160       __p^2 = .065\n",
       "161                NaN\n",
       "Name: Effect.Size.R, Length: 162, dtype: object"
      ]
     },
     "execution_count": 71,
     "metadata": {},
     "output_type": "execute_result"
    }
   ],
   "source": [
    " df['Effect.Size.R']"
   ]
  },
  {
   "cell_type": "markdown",
   "id": "8448437f-af49-4bd1-aab5-69d9a83959d0",
   "metadata": {},
   "source": [
    "## Effects\n",
    "\n",
    "A few values are not reported in standardized effect sizes, but we coerce r=.-11 to an effect size of -0.11"
   ]
  },
  {
   "cell_type": "code",
   "execution_count": 88,
   "id": "6b48c75a-dd11-4df7-810a-5b509c1b993b",
   "metadata": {},
   "outputs": [
    {
     "name": "stdout",
     "output_type": "stream",
     "text": [
      "could not convert string to float: 'Av. proportion 0.77'\n",
      "could not convert string to float: '.-11'\n"
     ]
    },
    {
     "name": "stderr",
     "output_type": "stream",
     "text": [
      "/var/folders/kj/8p_kqzx533b8vldhm5sdjfc00000gn/T/ipykernel_98237/3353311182.py:12: SettingWithCopyWarning: \n",
      "A value is trying to be set on a copy of a slice from a DataFrame.\n",
      "Try using .loc[row_indexer,col_indexer] = value instead\n",
      "\n",
      "See the caveats in the documentation: https://pandas.pydata.org/pandas-docs/stable/user_guide/indexing.html#returning-a-view-versus-a-copy\n",
      "  df['r_efsize'] = df['Effect.Size.R'].apply(get_ef_size)\n",
      "/var/folders/kj/8p_kqzx533b8vldhm5sdjfc00000gn/T/ipykernel_98237/3353311182.py:13: SettingWithCopyWarning: \n",
      "A value is trying to be set on a copy of a slice from a DataFrame.\n",
      "Try using .loc[row_indexer,col_indexer] = value instead\n",
      "\n",
      "See the caveats in the documentation: https://pandas.pydata.org/pandas-docs/stable/user_guide/indexing.html#returning-a-view-versus-a-copy\n",
      "  df['o_efsize'] = df['Effect.size.O'].apply(get_ef_size)\n",
      "/var/folders/kj/8p_kqzx533b8vldhm5sdjfc00000gn/T/ipykernel_98237/3353311182.py:14: SettingWithCopyWarning: \n",
      "A value is trying to be set on a copy of a slice from a DataFrame.\n",
      "Try using .loc[row_indexer,col_indexer] = value instead\n",
      "\n",
      "See the caveats in the documentation: https://pandas.pydata.org/pandas-docs/stable/user_guide/indexing.html#returning-a-view-versus-a-copy\n",
      "  df['diff'] = df['r_efsize'] - df['o_efsize']\n"
     ]
    }
   ],
   "source": [
    "def get_ef_size(x):\n",
    "    if pd.isnull(x):\n",
    "        return None\n",
    "    else:\n",
    "        try:\n",
    "            size = float(x.split(\"=\")[-1].strip())\n",
    "            return size\n",
    "        except Exception as e:\n",
    "            print(e)\n",
    "            return None\n",
    "        \n",
    "df['r_efsize'] = df['Effect.Size.R'].apply(get_ef_size)\n",
    "df['o_efsize'] = df['Effect.size.O'].apply(get_ef_size)\n",
    "df['diff'] = df['r_efsize'] - df['o_efsize']\n",
    "df = df.query(\"o_efsize<=1&r_efsize<=1\")\n",
    "df2 = df.dropna(subset=['o_efsize', 'r_efsize', 'time_since'])"
   ]
  },
  {
   "cell_type": "code",
   "execution_count": 89,
   "id": "67cd1e9f-7dee-4186-b6c0-bdb2d826b5d4",
   "metadata": {},
   "outputs": [
    {
     "data": {
      "text/plain": [
       "<Axes: xlabel='diff', ylabel='time_since'>"
      ]
     },
     "execution_count": 89,
     "metadata": {},
     "output_type": "execute_result"
    },
    {
     "data": {
      "image/png": "[encoded data removed]",
      "text/plain": [
       "<Figure size 640x480 with 1 Axes>"
      ]
     },
     "metadata": {},
     "output_type": "display_data"
    }
   ],
   "source": [
    "sns.scatterplot(data=df2, y='time_since', x='diff')"
   ]
  },
  {
   "cell_type": "code",
   "execution_count": 93,
   "id": "d3209a32-1258-420e-8ff5-82b09447aeb7",
   "metadata": {},
   "outputs": [
    {
     "ename": "KeyError",
     "evalue": "'T_r'",
     "output_type": "error",
     "traceback": [
      "\u001b[0;31m---------------------------------------------------------------------------\u001b[0m",
      "\u001b[0;31mKeyError\u001b[0m                                  Traceback (most recent call last)",
      "File \u001b[0;32m/Library/Frameworks/Python.framework/Versions/3.12/lib/python3.12/site-packages/pandas/core/indexes/base.py:3805\u001b[0m, in \u001b[0;36mIndex.get_loc\u001b[0;34m(self, key)\u001b[0m\n\u001b[1;32m   3804\u001b[0m \u001b[38;5;28;01mtry\u001b[39;00m:\n\u001b[0;32m-> 3805\u001b[0m     \u001b[38;5;28;01mreturn\u001b[39;00m \u001b[38;5;28;43mself\u001b[39;49m\u001b[38;5;241;43m.\u001b[39;49m\u001b[43m_engine\u001b[49m\u001b[38;5;241;43m.\u001b[39;49m\u001b[43mget_loc\u001b[49m\u001b[43m(\u001b[49m\u001b[43mcasted_key\u001b[49m\u001b[43m)\u001b[49m\n\u001b[1;32m   3806\u001b[0m \u001b[38;5;28;01mexcept\u001b[39;00m \u001b[38;5;167;01mKeyError\u001b[39;00m \u001b[38;5;28;01mas\u001b[39;00m err:\n",
      "File \u001b[0;32mindex.pyx:167\u001b[0m, in \u001b[0;36mpandas._libs.index.IndexEngine.get_loc\u001b[0;34m()\u001b[0m\n",
      "File \u001b[0;32mindex.pyx:196\u001b[0m, in \u001b[0;36mpandas._libs.index.IndexEngine.get_loc\u001b[0;34m()\u001b[0m\n",
      "File \u001b[0;32mpandas/_libs/hashtable_class_helper.pxi:7081\u001b[0m, in \u001b[0;36mpandas._libs.hashtable.PyObjectHashTable.get_item\u001b[0;34m()\u001b[0m\n",
      "File \u001b[0;32mpandas/_libs/hashtable_class_helper.pxi:7089\u001b[0m, in \u001b[0;36mpandas._libs.hashtable.PyObjectHashTable.get_item\u001b[0;34m()\u001b[0m\n",
      "\u001b[0;31mKeyError\u001b[0m: 'T_r'",
      "\nThe above exception was the direct cause of the following exception:\n",
      "\u001b[0;31mKeyError\u001b[0m                                  Traceback (most recent call last)",
      "Cell \u001b[0;32mIn[93], line 1\u001b[0m\n\u001b[0;32m----> 1\u001b[0m \u001b[43mdf\u001b[49m\u001b[43m[\u001b[49m\u001b[38;5;124;43m'\u001b[39;49m\u001b[38;5;124;43mT_r\u001b[39;49m\u001b[38;5;124;43m'\u001b[39;49m\u001b[43m]\u001b[49m\n",
      "File \u001b[0;32m/Library/Frameworks/Python.framework/Versions/3.12/lib/python3.12/site-packages/pandas/core/frame.py:4090\u001b[0m, in \u001b[0;36mDataFrame.__getitem__\u001b[0;34m(self, key)\u001b[0m\n\u001b[1;32m   4088\u001b[0m \u001b[38;5;28;01mif\u001b[39;00m \u001b[38;5;28mself\u001b[39m\u001b[38;5;241m.\u001b[39mcolumns\u001b[38;5;241m.\u001b[39mnlevels \u001b[38;5;241m>\u001b[39m \u001b[38;5;241m1\u001b[39m:\n\u001b[1;32m   4089\u001b[0m     \u001b[38;5;28;01mreturn\u001b[39;00m \u001b[38;5;28mself\u001b[39m\u001b[38;5;241m.\u001b[39m_getitem_multilevel(key)\n\u001b[0;32m-> 4090\u001b[0m indexer \u001b[38;5;241m=\u001b[39m \u001b[38;5;28;43mself\u001b[39;49m\u001b[38;5;241;43m.\u001b[39;49m\u001b[43mcolumns\u001b[49m\u001b[38;5;241;43m.\u001b[39;49m\u001b[43mget_loc\u001b[49m\u001b[43m(\u001b[49m\u001b[43mkey\u001b[49m\u001b[43m)\u001b[49m\n\u001b[1;32m   4091\u001b[0m \u001b[38;5;28;01mif\u001b[39;00m is_integer(indexer):\n\u001b[1;32m   4092\u001b[0m     indexer \u001b[38;5;241m=\u001b[39m [indexer]\n",
      "File \u001b[0;32m/Library/Frameworks/Python.framework/Versions/3.12/lib/python3.12/site-packages/pandas/core/indexes/base.py:3812\u001b[0m, in \u001b[0;36mIndex.get_loc\u001b[0;34m(self, key)\u001b[0m\n\u001b[1;32m   3807\u001b[0m     \u001b[38;5;28;01mif\u001b[39;00m \u001b[38;5;28misinstance\u001b[39m(casted_key, \u001b[38;5;28mslice\u001b[39m) \u001b[38;5;129;01mor\u001b[39;00m (\n\u001b[1;32m   3808\u001b[0m         \u001b[38;5;28misinstance\u001b[39m(casted_key, abc\u001b[38;5;241m.\u001b[39mIterable)\n\u001b[1;32m   3809\u001b[0m         \u001b[38;5;129;01mand\u001b[39;00m \u001b[38;5;28many\u001b[39m(\u001b[38;5;28misinstance\u001b[39m(x, \u001b[38;5;28mslice\u001b[39m) \u001b[38;5;28;01mfor\u001b[39;00m x \u001b[38;5;129;01min\u001b[39;00m casted_key)\n\u001b[1;32m   3810\u001b[0m     ):\n\u001b[1;32m   3811\u001b[0m         \u001b[38;5;28;01mraise\u001b[39;00m InvalidIndexError(key)\n\u001b[0;32m-> 3812\u001b[0m     \u001b[38;5;28;01mraise\u001b[39;00m \u001b[38;5;167;01mKeyError\u001b[39;00m(key) \u001b[38;5;28;01mfrom\u001b[39;00m \u001b[38;5;21;01merr\u001b[39;00m\n\u001b[1;32m   3813\u001b[0m \u001b[38;5;28;01mexcept\u001b[39;00m \u001b[38;5;167;01mTypeError\u001b[39;00m:\n\u001b[1;32m   3814\u001b[0m     \u001b[38;5;66;03m# If we have a listlike key, _check_indexing_error will raise\u001b[39;00m\n\u001b[1;32m   3815\u001b[0m     \u001b[38;5;66;03m#  InvalidIndexError. Otherwise we fall through and re-raise\u001b[39;00m\n\u001b[1;32m   3816\u001b[0m     \u001b[38;5;66;03m#  the TypeError.\u001b[39;00m\n\u001b[1;32m   3817\u001b[0m     \u001b[38;5;28mself\u001b[39m\u001b[38;5;241m.\u001b[39m_check_indexing_error(key)\n",
      "\u001b[0;31mKeyError\u001b[0m: 'T_r'"
     ]
    }
   ],
   "source": [
    "df['T_r']"
   ]
  },
  {
   "cell_type": "code",
   "execution_count": 94,
   "id": "fb44bd11-b225-477e-a752-4c0e77fc80a4",
   "metadata": {},
   "outputs": [
    {
     "data": {
      "text/plain": [
       "0      0.594605\n",
       "1      0.611120\n",
       "2      0.424980\n",
       "3      0.228740\n",
       "4      0.461301\n",
       "         ...   \n",
       "157    0.683979\n",
       "158    0.283788\n",
       "159         NaN\n",
       "160    0.595272\n",
       "161         NaN\n",
       "Name: T.r.O, Length: 162, dtype: float64"
      ]
     },
     "execution_count": 94,
     "metadata": {},
     "output_type": "execute_result"
    }
   ],
   "source": [
    "df['T.r.O']"
   ]
  },
  {
   "cell_type": "code",
   "execution_count": 95,
   "id": "39d40e1e-b993-4d56-967d-a4323c487daf",
   "metadata": {},
   "outputs": [
    {
     "data": {
      "text/plain": [
       "0      0.148340\n",
       "1      0.229605\n",
       "2     -0.215244\n",
       "3     -0.006108\n",
       "4      0.134812\n",
       "         ...   \n",
       "157         NaN\n",
       "158   -0.175455\n",
       "159         NaN\n",
       "160    0.254142\n",
       "161         NaN\n",
       "Name: T.r.R, Length: 162, dtype: float64"
      ]
     },
     "execution_count": 95,
     "metadata": {},
     "output_type": "execute_result"
    }
   ],
   "source": [
    "df['T.r.R']"
   ]
  },
  {
   "cell_type": "code",
   "execution_count": null,
   "id": "201ef1fe-79c6-42ee-823f-87e53094f0c1",
   "metadata": {},
   "outputs": [],
   "source": []
  }
 ],
 "metadata": {
  "kernelspec": {
   "display_name": "Python 3 (ipykernel)",
   "language": "python",
   "name": "python3"
  },
  "language_info": {
   "codemirror_mode": {
    "name": "ipython",
    "version": 3
   },
   "file_extension": ".py",
   "mimetype": "text/x-python",
   "name": "python",
   "nbconvert_exporter": "python",
   "pygments_lexer": "ipython3",
   "version": "3.12.0"
  }
 },
 "nbformat": 4,
 "nbformat_minor": 5
}
